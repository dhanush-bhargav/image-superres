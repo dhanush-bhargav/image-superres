{
 "cells": [
  {
   "cell_type": "code",
   "execution_count": null,
   "id": "431eb0a0-5cca-4a6d-aa5c-4dcc44137f15",
   "metadata": {},
   "outputs": [],
   "source": [
    "import prepare_data\n",
    "import tensorflow as tf\n",
    "import cv2"
   ]
  },
  {
   "cell_type": "code",
   "execution_count": null,
   "id": "6285dd6c-3aa2-49e3-924d-06f7dd6684e0",
   "metadata": {},
   "outputs": [],
   "source": [
    "#load previously trained models\n",
    "generator_model = tf.keras.models.load_model(\"models/generator_model_trained.h5\")\n",
    "\n",
    "#prepare test data\n",
    "X_test, y_test = prepare_data.prepare_data(path)\n",
    "\n",
    "#use generator to get predictions on test data\n",
    "output = generator_model.predict(X_test)"
   ]
  },
  {
   "cell_type": "code",
   "execution_count": null,
   "id": "98ca8c96-ef71-4fad-b694-02bec5ad62ca",
   "metadata": {},
   "outputs": [],
   "source": [
    "X_test = X_test*255.0\n",
    "output = output*127.5 + 127.5\n",
    "y_test = y_test*127.5 + 127.5\n",
    "\n",
    "for i in range(0,output.shape[0]):\n",
    "    print(\"generator output\" + str(i+1))\n",
    "    cv2.imshow(output[i])\n",
    "    print(\"lowres image\" + str(i+1))\n",
    "    cv2.imshow(X_test[i])\n",
    "    print(\"highres image\" + str(i+1))\n",
    "    cv2.imshow(y_test[i])"
   ]
  }
 ],
 "metadata": {
  "kernelspec": {
   "display_name": "Python 3 (ipykernel)",
   "language": "python",
   "name": "python3"
  },
  "language_info": {
   "codemirror_mode": {
    "name": "ipython",
    "version": 3
   },
   "file_extension": ".py",
   "mimetype": "text/x-python",
   "name": "python",
   "nbconvert_exporter": "python",
   "pygments_lexer": "ipython3",
   "version": "3.9.5"
  }
 },
 "nbformat": 4,
 "nbformat_minor": 5
}
