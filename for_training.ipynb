{
 "cells": [
  {
   "cell_type": "code",
   "execution_count": 1,
   "metadata": {},
   "outputs": [],
   "source": [
    "import tensorflow as tf\n",
    "import build_model\n",
    "import loss_calc\n",
    "import prepare_data\n",
    "import trainer\n",
    "\n",
    "#download weights of VGG19 model trained on imagenet dataset to be used for calculating vgg loss\n",
    "VGG_MODEL = tf.keras.applications.VGG19(include_top=False, weights='imagenet')\n",
    "VGG_MODEL.trainable = False"
   ]
  },
  {
   "cell_type": "code",
   "execution_count": 2,
   "metadata": {},
   "outputs": [],
   "source": [
    "B = 8\n",
    "filters = 64\n",
    "kernel_size = 3\n",
    "strides = 1"
   ]
  },
  {
   "cell_type": "code",
   "execution_count": null,
   "metadata": {},
   "outputs": [],
   "source": [
    "#call the functions for creating generator and discriminator models\n",
    "generator_model = build_model.build_generator_net(B)\n",
    "discriminator_model = build_model.build_discriminator_net(filters, kernel_size, strides)\n",
    "\n",
    "#prepare the training\n",
    "path = \"data/img_align_celeba\" #path to the folder where training input images are stored\n",
    "X_train, y_train = prepare_data.prepare_data(path)\n",
    "dataset = tf.data.Dataset.from_tensor_slices((X_train, y_train)).batch(64)\n",
    "\n",
    "#train the GAN model using the prepared training data\n",
    "gen_model_trained, disc_model_trained = trainer.train(generator_model, discriminator_model, VGG_MODEL, dataset, epochs=10)"
   ]
  },
  {
   "cell_type": "code",
   "execution_count": null,
   "metadata": {
    "id": "gDolabN2HvDv"
   },
   "outputs": [],
   "source": [
    "#save trained models\n",
    "gen_model_trained.save(\"/models/gen_model_trained.h5\")\n",
    "disc_model_trained.save(\"/models/disc_model_trained.h5\")"
   ]
  },
  {
   "cell_type": "code",
   "execution_count": 4,
   "metadata": {},
   "outputs": [
    {
     "name": "stdout",
     "output_type": "stream",
     "text": [
      "(0,)\n"
     ]
    }
   ],
   "source": [
    "print(X_train.shape)"
   ]
  }
 ],
 "metadata": {
  "accelerator": "GPU",
  "colab": {
   "collapsed_sections": [],
   "name": "SRGAN_try1.ipynb",
   "provenance": []
  },
  "kernelspec": {
   "display_name": "Python 3 (ipykernel)",
   "language": "python",
   "name": "python3"
  },
  "language_info": {
   "codemirror_mode": {
    "name": "ipython",
    "version": 3
   },
   "file_extension": ".py",
   "mimetype": "text/x-python",
   "name": "python",
   "nbconvert_exporter": "python",
   "pygments_lexer": "ipython3",
   "version": "3.9.5"
  }
 },
 "nbformat": 4,
 "nbformat_minor": 4
}
